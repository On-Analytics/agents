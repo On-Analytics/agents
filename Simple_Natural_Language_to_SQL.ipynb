{
 "cells": [
  {
   "cell_type": "code",
   "execution_count": 1,
   "id": "a63ce5c1-54a5-49ad-9619-c698af23fae8",
   "metadata": {
    "tags": []
   },
   "outputs": [],
   "source": [
    "from typing import TypedDict, Literal\n",
    "from langgraph.graph import StateGraph, END\n",
    "from langchain_core.messages import HumanMessage, AIMessage\n",
    "from langchain_openai import ChatOpenAI\n",
    "from langchain_core.prompts import ChatPromptTemplate\n",
    "import sqlite3\n",
    "import json\n",
    "from datetime import datetime\n",
    "from dotenv import load_dotenv\n",
    "import os"
   ]
  },
  {
   "cell_type": "code",
   "execution_count": 2,
   "id": "0e975131-4983-411f-aec5-cdd4eb759803",
   "metadata": {
    "tags": []
   },
   "outputs": [
    {
     "data": {
      "text/plain": [
       "True"
      ]
     },
     "execution_count": 2,
     "metadata": {},
     "output_type": "execute_result"
    }
   ],
   "source": [
    "# Load environment variables from .env file\n",
    "load_dotenv()"
   ]
  },
  {
   "cell_type": "code",
   "execution_count": 3,
   "id": "91f8ae18-49b9-45ec-8456-c6b7d54d6c36",
   "metadata": {
    "tags": []
   },
   "outputs": [],
   "source": [
    "# Initialize LLM\n",
    "llm = ChatOpenAI(model=\"gpt-4\", temperature=0)"
   ]
  },
  {
   "cell_type": "markdown",
   "id": "0ea7d8c4-9f74-46b8-9a72-d6be604fab72",
   "metadata": {},
   "source": [
    "#### Test LLM"
   ]
  },
  {
   "cell_type": "code",
   "execution_count": 4,
   "id": "325810b5-35ec-4737-b967-61597b968a21",
   "metadata": {
    "tags": []
   },
   "outputs": [
    {
     "name": "stdout",
     "output_type": "stream",
     "text": [
      "LLM Response: Hello! How can I assist you today?\n"
     ]
    }
   ],
   "source": [
    "# Create a simple message\n",
    "message = HumanMessage(content=\"Hello!\")\n",
    "\n",
    "# Send the message to the LLM\n",
    "response = llm.invoke([message])\n",
    "\n",
    "# Print the response\n",
    "print(\"LLM Response:\", response.content)"
   ]
  },
  {
   "cell_type": "markdown",
   "id": "7ff872ca-8f14-4074-a468-82113d22dafe",
   "metadata": {
    "tags": []
   },
   "source": [
    "### DataBase Connection, Creation and Insertion of Data"
   ]
  },
  {
   "cell_type": "code",
   "execution_count": 5,
   "id": "f5cf1d99-0ec5-468c-bc0f-c86d2ce914ab",
   "metadata": {
    "tags": []
   },
   "outputs": [],
   "source": [
    "# Sample database setup (you can replace this with your actual database)\n",
    "def setup_sample_database():\n",
    "    conn = sqlite3.connect(':memory:')\n",
    "    cursor = conn.cursor()\n",
    "    \n",
    "    # Create sample tables\n",
    "    cursor.execute('''\n",
    "        CREATE TABLE employees (\n",
    "            id INTEGER PRIMARY KEY,\n",
    "            name TEXT,\n",
    "            department TEXT,\n",
    "            salary REAL,\n",
    "            hire_date DATE\n",
    "        )\n",
    "    ''')\n",
    "    \n",
    "    cursor.execute('''\n",
    "        CREATE TABLE projects (\n",
    "            id INTEGER PRIMARY KEY,\n",
    "            project_name TEXT,\n",
    "            budget REAL,\n",
    "            status TEXT,\n",
    "            start_date DATE\n",
    "        )\n",
    "    ''')\n",
    "    \n",
    "    # Insert sample data\n",
    "    employees_data = [\n",
    "        (1, 'John Doe', 'Engineering', 75000, '2022-01-15'),\n",
    "        (2, 'Jane Smith', 'Marketing', 65000, '2021-03-20'),\n",
    "        (3, 'Bob Johnson', 'Engineering', 80000, '2020-06-10'),\n",
    "        (4, 'Alice Brown', 'HR', 60000, '2023-02-28')\n",
    "    ]\n",
    "    \n",
    "    projects_data = [\n",
    "        (1, 'Website Redesign', 50000, 'Active', '2024-01-01'),\n",
    "        (2, 'Mobile App', 100000, 'Completed', '2023-06-15'),\n",
    "        (3, 'AI Integration', 150000, 'Planning', '2024-03-01')\n",
    "    ]\n",
    "    \n",
    "    cursor.executemany('INSERT INTO employees VALUES (?,?,?,?,?)', employees_data)\n",
    "    cursor.executemany('INSERT INTO projects VALUES (?,?,?,?,?)', projects_data)\n",
    "    \n",
    "    conn.commit()\n",
    "    return conn\n",
    "\n",
    "# Database connection\n",
    "db_conn = setup_sample_database()"
   ]
  },
  {
   "cell_type": "markdown",
   "id": "0640db11-9ef0-403b-96b8-7356ffd73892",
   "metadata": {
    "tags": []
   },
   "source": [
    "## Agent"
   ]
  },
  {
   "cell_type": "markdown",
   "id": "0a0887bf-299c-4478-ba4b-bb56cc5d185a",
   "metadata": {},
   "source": [
    "Nodes:\n",
    "1. classify_\tClassifies question as semantic, structured, or hybrid\n",
    "2. generate_sql:\tConverts structured/hybrid questions into SQL\n",
    "3. execute_query:\tRuns SQL against your DB and gets results\n",
    "4. process_semantic:\tUses LLM to answer semantic questions directly\n",
    "5. generate_answer:\tSummarizes SQL query results (or hybrid insight)\n",
    "\n",
    "Routing Logic:\n",
    "\n",
    "1. structured → generate_sql → execute_query → generate_answer\n",
    "2. hybrid → generate_sql → execute_query → generate_answer\n",
    "3. semantic → process_semantic"
   ]
  },
  {
   "cell_type": "code",
   "execution_count": 6,
   "id": "292b0923-52a0-40d9-9eb8-63f8bb988766",
   "metadata": {
    "tags": []
   },
   "outputs": [],
   "source": [
    "# Define the state structure\n",
    "class AgentState(TypedDict):\n",
    "    question: str\n",
    "    question_type: Literal[\"semantic\", \"structured\", \"hybrid\"]\n",
    "    sql_query: str\n",
    "    query_results: str\n",
    "    final_answer: str\n",
    "    messages: list"
   ]
  },
  {
   "cell_type": "markdown",
   "id": "d312038b-a1c5-4a12-af8d-2670e61307a1",
   "metadata": {
    "tags": []
   },
   "source": [
    "### Node 1 Classify Question"
   ]
  },
  {
   "cell_type": "code",
   "execution_count": 9,
   "id": "d0eb496e-571e-41eb-9439-244b9c985fff",
   "metadata": {
    "tags": []
   },
   "outputs": [],
   "source": [
    "# Node 1: Question Classification\n",
    "def classify_question(state: AgentState) -> AgentState:\n",
    "    \"\"\"Analyze the question to determine its type\"\"\"\n",
    "    \n",
    "    classification_prompt = ChatPromptTemplate.from_template(\n",
    "        \"\"\"\n",
    "        Analyze the following question and classify it as one of these types:\n",
    "        \n",
    "        1. \"semantic\" - Questions that require understanding context, meaning, or general knowledge\n",
    "           Examples: \"What is machine learning?\", \"Explain the concept of...\", \"How does X work?\"\n",
    "        \n",
    "        2. \"structured\" - Questions that can be answered with specific data queries from databases\n",
    "           Examples: \"How many employees are in engineering?\", \"What's the average salary?\", \"List all active projects\"\n",
    "        \n",
    "        3. \"hybrid\" - Questions that require both structured data retrieval AND semantic understanding\n",
    "           Examples: \"Analyze the salary trends and explain what they mean\", \"Compare project budgets and suggest improvements\"\n",
    "        \n",
    "        Question: {question}\n",
    "        \n",
    "        Database Schema Information:\n",
    "        - employees table: id, name, department, salary, hire_date\n",
    "        - projects table: id, project_name, budget, status, start_date\n",
    "        \n",
    "        Respond with ONLY one word: semantic, structured, or hybrid\n",
    "        \"\"\"\n",
    "    )\n",
    "    \n",
    "    # compose the chain\n",
    "    # state[\"question\"] → classification_prompt (formatting) → llm (generation) → response\n",
    "    chain = classification_prompt | llm  # compose the chain # send to the LLM\n",
    "     # Run the chain with the user's question \n",
    "    response = chain.invoke({\"question\": state[\"question\"]}) # Run the chain with the user's question\n",
    "    \n",
    "    question_type = response.content.strip().lower() # Get the response content and strip any leading/trailing whitespace\n",
    "    \n",
    "    # Validate the response - # Fallback for unexpected responses\n",
    "    if question_type not in [\"semantic\", \"structured\", \"hybrid\"]:\n",
    "        question_type = \"semantic\"  # Default fallback\n",
    "    \n",
    "    # Update and return the state with classification\n",
    "    return {\n",
    "        **state, # Take all the existing keys/values from state, rewrite question_type and messatges\n",
    "        \"question_type\": question_type,\n",
    "        \"messages\": state.get(\"messages\", []) + [\n",
    "            HumanMessage(content=f\"Question: {state['question']}\"),\n",
    "            AIMessage(content=f\"Classification: {question_type}\")\n",
    "        ]\n",
    "    }"
   ]
  },
  {
   "cell_type": "markdown",
   "id": "33d95c24-544f-47bf-8583-8ecb343b8a96",
   "metadata": {
    "tags": []
   },
   "source": [
    "#### Test for node_1"
   ]
  },
  {
   "cell_type": "code",
   "execution_count": 10,
   "id": "1ebdcb5f-6820-4ad6-b291-8bf7b06c8f6a",
   "metadata": {
    "tags": []
   },
   "outputs": [
    {
     "name": "stdout",
     "output_type": "stream",
     "text": [
      "================================\u001b[1m Human Message \u001b[0m=================================\n",
      "\n",
      "Question: How many employees are in engineering?\n",
      "==================================\u001b[1m Ai Message \u001b[0m==================================\n",
      "\n",
      "Classification: structured\n"
     ]
    }
   ],
   "source": [
    "from langchain_core.messages import SystemMessage, HumanMessage, AIMessage\n",
    "\n",
    "test_state = {\n",
    "    \"question\": \"How many employees are in engineering?\"\n",
    "}\n",
    "\n",
    "new_state = classify_question(test_state)\n",
    "\n",
    "for m in new_state['messages']:\n",
    "    m.pretty_print()"
   ]
  },
  {
   "cell_type": "code",
   "execution_count": 11,
   "id": "3083162e-70d4-481f-bb24-624c759706a4",
   "metadata": {
    "tags": []
   },
   "outputs": [
    {
     "name": "stdout",
     "output_type": "stream",
     "text": [
      "================================\u001b[1m Human Message \u001b[0m=================================\n",
      "\n",
      "Question: In brief words, what is machine learning?\n",
      "==================================\u001b[1m Ai Message \u001b[0m==================================\n",
      "\n",
      "Classification: semantic\n"
     ]
    }
   ],
   "source": [
    "from langchain_core.messages import SystemMessage, HumanMessage, AIMessage\n",
    "\n",
    "test_state = {\n",
    "    \"question\": \"In brief words, what is machine learning?\"\n",
    "}\n",
    "\n",
    "new_state = classify_question(test_state)\n",
    "\n",
    "for m in new_state['messages']:\n",
    "    m.pretty_print()"
   ]
  },
  {
   "cell_type": "code",
   "execution_count": 12,
   "id": "6fb3c134-f2bb-413e-9121-638fc86ecc00",
   "metadata": {
    "tags": []
   },
   "outputs": [
    {
     "name": "stdout",
     "output_type": "stream",
     "text": [
      "================================\u001b[1m Human Message \u001b[0m=================================\n",
      "\n",
      "Question: How many employees are in engineering, what is engeering?\n",
      "==================================\u001b[1m Ai Message \u001b[0m==================================\n",
      "\n",
      "Classification: hybrid\n"
     ]
    }
   ],
   "source": [
    "from langchain_core.messages import SystemMessage, HumanMessage, AIMessage\n",
    "\n",
    "test_state = {\n",
    "    \"question\": \"How many employees are in engineering, what is engeering?\"\n",
    "}\n",
    "\n",
    "new_state = classify_question(test_state)\n",
    "\n",
    "for m in new_state['messages']:\n",
    "    m.pretty_print()"
   ]
  },
  {
   "cell_type": "markdown",
   "id": "8a849d84-42b2-45fd-9ca2-48f9857d9c56",
   "metadata": {
    "tags": []
   },
   "source": [
    "### Node 2 Generate SQL Query"
   ]
  },
  {
   "cell_type": "code",
   "execution_count": 14,
   "id": "d405857b-ce4b-44d4-b917-edf06a54944d",
   "metadata": {
    "tags": []
   },
   "outputs": [],
   "source": [
    "# Node 2: SQL Query Generation\n",
    "def generate_sql_query(state: AgentState) -> AgentState:\n",
    "    \"\"\"Generate SQL query for structured questions\"\"\"\n",
    "    \n",
    "    sql_prompt = ChatPromptTemplate.from_template(\n",
    "        \"\"\"\n",
    "        Convert the following question into a SQL query based on the database schema.\n",
    "        \n",
    "        Database Schema:\n",
    "        - employees table: id (INTEGER), name (TEXT), department (TEXT), salary (REAL), hire_date (DATE)\n",
    "        - projects table: id (INTEGER), project_name (TEXT), budget (REAL), status (TEXT), start_date (DATE)\n",
    "        \n",
    "        Question: {question}\n",
    "        \n",
    "        Generate a valid SQL query that answers this question. Return ONLY the SQL query without any explanation.\n",
    "        Use proper SQL syntax and make sure the query is executable.\n",
    "        \"\"\"\n",
    "    )\n",
    "    \n",
    "    chain = sql_prompt | llm # Create a chain of prompts and LLM\n",
    "    response = chain.invoke({\"question\": state[\"question\"]})\n",
    "    \n",
    "    sql_query = response.content.strip()\n",
    "    \n",
    "    # Clean up the SQL query (remove markdown formatting if present) (remove triple backticks if present and strip)\n",
    "    if sql_query.startswith(\"```sql\"):\n",
    "        sql_query = sql_query.replace(\"```sql\", \"\").replace(\"```\", \"\").strip()\n",
    "    elif sql_query.startswith(\"```\"):\n",
    "        sql_query = sql_query.replace(\"```\", \"\").strip()\n",
    "    \n",
    "    return { # Returns a new state dict with the SQL query and updated messages.   \n",
    "        **state,\n",
    "        \"sql_query\": sql_query,\n",
    "        \"messages\": state.get(\"messages\", []) + [\n",
    "            HumanMessage(content=state[\"question\"]),\n",
    "            AIMessage(content=sql_query)\n",
    "        ]\n",
    "    }"
   ]
  },
  {
   "cell_type": "markdown",
   "id": "695211b6-25ef-498a-85a1-ec4e289599d8",
   "metadata": {
    "tags": []
   },
   "source": [
    "#### Test for Node 2"
   ]
  },
  {
   "cell_type": "code",
   "execution_count": 15,
   "id": "4bc615d3-9c79-40f6-83fa-2e9fa17c734a",
   "metadata": {
    "tags": []
   },
   "outputs": [
    {
     "name": "stdout",
     "output_type": "stream",
     "text": [
      "================================\u001b[1m Human Message \u001b[0m=================================\n",
      "\n",
      "What is the average salary in the engineering department?\n",
      "==================================\u001b[1m Ai Message \u001b[0m==================================\n",
      "\n",
      "SELECT AVG(salary) FROM employees WHERE department = 'engineering';\n"
     ]
    }
   ],
   "source": [
    "# Test state with a structured question\n",
    "test_state = {\n",
    "    \"question\": \"What is the average salary in the engineering department?\"\n",
    "}\n",
    "\n",
    "# Run SQL generation node\n",
    "new_state = generate_sql_query(test_state)\n",
    "\n",
    "for m in new_state['messages']:\n",
    "    m.pretty_print()"
   ]
  },
  {
   "cell_type": "code",
   "execution_count": 20,
   "id": "66938cca-772e-4962-acc2-538fa4eb21d3",
   "metadata": {
    "tags": []
   },
   "outputs": [
    {
     "name": "stdout",
     "output_type": "stream",
     "text": [
      "================================\u001b[1m Human Message \u001b[0m=================================\n",
      "\n",
      "In brief words, what is machine learning?\n",
      "==================================\u001b[1m Ai Message \u001b[0m==================================\n",
      "\n",
      "The question provided does not relate to the database schema provided. It's a general knowledge question about machine learning, not a data query. Therefore, it's not possible to generate a SQL query based on this question.\n"
     ]
    }
   ],
   "source": [
    "test_state = {\n",
    "    \"question\": \"In brief words, what is machine learning?\"\n",
    "}\n",
    "\n",
    "# Run SQL generation node\n",
    "new_state = generate_sql_query(test_state)\n",
    "\n",
    "for m in new_state['messages']:\n",
    "    m.pretty_print()"
   ]
  },
  {
   "cell_type": "markdown",
   "id": "6b0906ce-9479-419c-a4c3-a9144b3b6512",
   "metadata": {
    "tags": []
   },
   "source": [
    "### Node 3 Database Query Execution"
   ]
  },
  {
   "cell_type": "code",
   "execution_count": null,
   "id": "8c559166-10aa-45fe-a6de-2bf96337e08b",
   "metadata": {
    "tags": []
   },
   "outputs": [],
   "source": [
    "# Node 3: Database Query Execution\n",
    "def execute_database_query(state: AgentState) -> AgentState:\n",
    "    \"\"\"Execute the SQL query against the database\"\"\"\n",
    "    \n",
    "    try:\n",
    "        cursor = db_conn.cursor() # Create a cursor object\n",
    "        cursor.execute(state[\"sql_query\"]) # Execute the SQL query\n",
    "        results = cursor.fetchall()\n",
    "        \n",
    "        # Get column names\n",
    "        column_names = [description[0] for description in cursor.description]\n",
    "        \n",
    "        # Format results as a readable string\n",
    "        if results:\n",
    "            formatted_results = []\n",
    "            for row in results:\n",
    "                row_dict = dict(zip(column_names, row))\n",
    "                formatted_results.append(row_dict)\n",
    "            \n",
    "            query_results = json.dumps(formatted_results, indent=2, default=str)\n",
    "        else:\n",
    "            query_results = \"No results found.\"\n",
    "            \n",
    "    except Exception as e:\n",
    "        query_results = f\"Error executing query: {str(e)}\"\n",
    "    \n",
    "    # Return updated state including messages\n",
    "    return {\n",
    "        **state,\n",
    "        \"query_results\": query_results,\n",
    "        \"messages\": state.get(\"messages\", []) + [\n",
    "            AIMessage(content=f\"Query Results:\\n{query_results}\")\n",
    "        ]\n",
    "    }"
   ]
  },
  {
   "cell_type": "markdown",
   "id": "c8125724-73f1-4d94-93aa-f648553e63c4",
   "metadata": {
    "tags": []
   },
   "source": [
    "#### Test Node 3"
   ]
  },
  {
   "cell_type": "code",
   "execution_count": 18,
   "id": "1ac6d113-1a63-4acb-bcfb-a8279f61ff95",
   "metadata": {
    "tags": []
   },
   "outputs": [
    {
     "name": "stdout",
     "output_type": "stream",
     "text": [
      "==================================\u001b[1m Ai Message \u001b[0m==================================\n",
      "\n",
      "Query Results:\n",
      "[\n",
      "  {\n",
      "    \"AVG(salary)\": 77500.0\n",
      "  }\n",
      "]\n"
     ]
    }
   ],
   "source": [
    "test_state = {\n",
    "    \"question\": \"What is the average salary in the engineering department?\",\n",
    "    \"sql_query\": \"SELECT AVG(salary) FROM employees WHERE department = 'Engineering';\"\n",
    "}\n",
    "\n",
    "new_state = execute_database_query(test_state)\n",
    "\n",
    "# Pretty print the message history\n",
    "for m in new_state[\"messages\"]:\n",
    "    m.pretty_print()"
   ]
  },
  {
   "cell_type": "markdown",
   "id": "55ab3a79-1354-416c-a059-5ecdc4a1b393",
   "metadata": {
    "jp-MarkdownHeadingCollapsed": true,
    "tags": []
   },
   "source": [
    "### Node 4 Process Semantic Question"
   ]
  },
  {
   "cell_type": "code",
   "execution_count": null,
   "id": "655332ee-9907-487b-ac0b-68e30a0d611c",
   "metadata": {
    "tags": []
   },
   "outputs": [],
   "source": [
    "# Node 4: Semantic Processing (for semantic questions)\n",
    "def process_semantic_question(state: AgentState) -> AgentState:\n",
    "    \"\"\"Process semantic questions using general knowledge\"\"\"\n",
    "    \n",
    "    semantic_prompt = ChatPromptTemplate.from_template(\n",
    "        \"\"\"\n",
    "        Answer the following question using your knowledge and reasoning capabilities.\n",
    "        Provide a comprehensive and helpful response.\n",
    "\n",
    "        Question: {question}\n",
    "        \"\"\"\n",
    "    )\n",
    "    \n",
    "    chain = semantic_prompt | llm # Create a chain of prompts and LLM\n",
    "    response = chain.invoke({\"question\": state[\"question\"]}) # Invoke the chain\n",
    "\n",
    "    return { # Return updated state including messages\n",
    "        **state,\n",
    "        \"final_answer\": response.content,\n",
    "        \"messages\": state.get(\"messages\", []) + [\n",
    "            AIMessage(content=f\"Answer:\\n{response.content}\")\n",
    "        ]\n",
    "    }"
   ]
  },
  {
   "cell_type": "markdown",
   "id": "bda93dec-7253-4728-9ff3-35ea7e8610e0",
   "metadata": {
    "jp-MarkdownHeadingCollapsed": true,
    "tags": []
   },
   "source": [
    "#### Test Node 4"
   ]
  },
  {
   "cell_type": "code",
   "execution_count": 22,
   "id": "edc6a8ee-2223-47ca-9cbc-3093e8b1b6ae",
   "metadata": {
    "tags": []
   },
   "outputs": [
    {
     "name": "stdout",
     "output_type": "stream",
     "text": [
      "==================================\u001b[1m Ai Message \u001b[0m==================================\n",
      "\n",
      "Answer:\n",
      "Machine learning is a subset of artificial intelligence (AI) that provides systems the ability to automatically learn and improve from experience without being explicitly programmed. It focuses on the development of computer programs that can access data and use it to learn for themselves. The process of learning begins with observations or data, such as examples, direct experience, or instruction, in order to look for patterns in data and make better decisions in the future based on the examples that we provide. The primary aim is to allow the computers to learn automatically without human intervention or assistance and adjust actions accordingly.\n"
     ]
    }
   ],
   "source": [
    "test_state = {\n",
    "    \"question\": \"In brief words, what is machine learning?\"\n",
    "}\n",
    "\n",
    "new_state = process_semantic_question(test_state)\n",
    "\n",
    "for m in new_state[\"messages\"]:\n",
    "    m.pretty_print()"
   ]
  },
  {
   "cell_type": "markdown",
   "id": "04da55a7-24f7-4297-9f47-292f2ee16dc6",
   "metadata": {
    "jp-MarkdownHeadingCollapsed": true,
    "tags": []
   },
   "source": [
    "### Node 5 Final Answer"
   ]
  },
  {
   "cell_type": "code",
   "execution_count": 23,
   "id": "07b7f8bb-3460-446b-9341-99456ef52453",
   "metadata": {
    "tags": []
   },
   "outputs": [],
   "source": [
    "def generate_final_answer(state: AgentState) -> AgentState:\n",
    "    \"\"\"Generate the final answer using LLM with context\"\"\"\n",
    "\n",
    "    if state[\"question_type\"] == \"semantic\":\n",
    "        # Semantic questions already processed in Node 4\n",
    "        return state\n",
    "\n",
    "    answer_prompt = ChatPromptTemplate.from_template(\n",
    "        \"\"\"\n",
    "        Based on the query results below, provide a clear and comprehensive answer to the user's question.\n",
    "\n",
    "        Original Question: {question}\n",
    "        Question Type: {question_type}\n",
    "        Query Results: {query_results}\n",
    "\n",
    "        Provide a natural language response that directly answers the user's question based on the data.\n",
    "        If this is a hybrid question, also provide analysis and insights beyond just the raw data.\n",
    "        \"\"\"\n",
    "    )\n",
    "\n",
    "    chain = answer_prompt | llm\n",
    "    response = chain.invoke({\n",
    "        \"question\": state[\"question\"],\n",
    "        \"question_type\": state[\"question_type\"],\n",
    "        \"query_results\": state.get(\"query_results\", \"\")\n",
    "    })\n",
    "\n",
    "    return {\n",
    "        **state,\n",
    "        \"final_answer\": response.content,\n",
    "        \"messages\": state.get(\"messages\", []) + [\n",
    "            AIMessage(content=f\"Answer:\\n{response.content}\")\n",
    "        ]\n",
    "    }"
   ]
  },
  {
   "cell_type": "markdown",
   "id": "1ab3f376-5b2d-4ab5-8b15-15ab147e20c5",
   "metadata": {},
   "source": [
    "#### Test Node 5"
   ]
  },
  {
   "cell_type": "code",
   "execution_count": 24,
   "id": "92d4e7b1-0b6d-46a9-8553-82b28b9e9cca",
   "metadata": {
    "tags": []
   },
   "outputs": [
    {
     "name": "stdout",
     "output_type": "stream",
     "text": [
      "==================================\u001b[1m Ai Message \u001b[0m==================================\n",
      "\n",
      "Answer:\n",
      "The average salary in the marketing department is $65,000.\n"
     ]
    }
   ],
   "source": [
    "test_state = {\n",
    "    \"question\": \"What is the average salary in the marketing department?\",\n",
    "    \"question_type\": \"structured\",\n",
    "    \"query_results\": '[{\"AVG(salary)\": 65000}]',\n",
    "    \"messages\": []\n",
    "}\n",
    "\n",
    "final_state = generate_final_answer(test_state)\n",
    "\n",
    "for m in final_state[\"messages\"]:\n",
    "    m.pretty_print()"
   ]
  },
  {
   "cell_type": "markdown",
   "id": "b12e0a5c-c155-4d5b-b131-80283834ee1f",
   "metadata": {
    "tags": []
   },
   "source": [
    "### Routing Function"
   ]
  },
  {
   "cell_type": "code",
   "execution_count": 25,
   "id": "b8c30e3e-5220-4bd1-87e1-641e030fbe16",
   "metadata": {
    "tags": []
   },
   "outputs": [],
   "source": [
    "# Routing function\n",
    "def route_question(state: AgentState):\n",
    "    \"\"\"Route the question based on its classification\"\"\"\n",
    "    question_type = state[\"question_type\"]\n",
    "    \n",
    "    if question_type == \"structured\":\n",
    "        return \"generate_sql\"\n",
    "    elif question_type == \"semantic\":\n",
    "        return \"process_semantic\"\n",
    "    elif question_type == \"hybrid\":\n",
    "        return \"generate_sql\"  # Hybrid questions also need structured data first\n",
    "    else:\n",
    "        return \"process_semantic\"  # Default to semantic"
   ]
  },
  {
   "cell_type": "markdown",
   "id": "235f5104-82bb-4d18-a2b6-e7a73d9306cc",
   "metadata": {
    "tags": []
   },
   "source": [
    "### Pipeline Creation"
   ]
  },
  {
   "cell_type": "code",
   "execution_count": 26,
   "id": "f2b6b34c-edac-4627-a8c0-3862c982e44d",
   "metadata": {
    "tags": []
   },
   "outputs": [],
   "source": [
    "# Build the graph\n",
    "def create_rag_pipeline():\n",
    "    workflow = StateGraph(AgentState)\n",
    "    \n",
    "    # Add nodes\n",
    "    workflow.add_node(\"classify\", classify_question)\n",
    "    workflow.add_node(\"generate_sql\", generate_sql_query)\n",
    "    workflow.add_node(\"execute_query\", execute_database_query)\n",
    "    workflow.add_node(\"process_semantic\", process_semantic_question)\n",
    "    workflow.add_node(\"generate_answer\", generate_final_answer)\n",
    "    \n",
    "    # Add edges\n",
    "    workflow.set_entry_point(\"classify\")\n",
    "    \n",
    "    # Conditional routing after classification\n",
    "    workflow.add_conditional_edges(\n",
    "        \"classify\",\n",
    "        route_question,\n",
    "        {\n",
    "            \"generate_sql\": \"generate_sql\",\n",
    "            \"process_semantic\": \"process_semantic\"\n",
    "        }\n",
    "    )\n",
    "    \n",
    "    # Structured data flow\n",
    "    workflow.add_edge(\"generate_sql\", \"execute_query\")\n",
    "    workflow.add_edge(\"execute_query\", \"generate_answer\")\n",
    "    \n",
    "    # Semantic flow goes directly to end\n",
    "    workflow.add_edge(\"process_semantic\", END)\n",
    "    \n",
    "    # Final answer goes to end\n",
    "    workflow.add_edge(\"generate_answer\", END)\n",
    "    \n",
    "    return workflow.compile()"
   ]
  },
  {
   "cell_type": "markdown",
   "id": "a3a9220b-e45b-4778-8271-f2611c50c2ec",
   "metadata": {},
   "source": [
    "#### Graph Diagram"
   ]
  },
  {
   "cell_type": "code",
   "execution_count": 28,
   "id": "ac852e6d-b551-4ac6-8fa9-30e554516bbf",
   "metadata": {
    "tags": []
   },
   "outputs": [
    {
     "data": {
      "image/png": "[encoded data removed]",
      "text/plain": [
       "<IPython.core.display.Image object>"
      ]
     },
     "metadata": {},
     "output_type": "display_data"
    }
   ],
   "source": [
    "from IPython.display import Image, display\n",
    "# Create and display the graph\n",
    "react_graph = create_rag_pipeline()\n",
    "display(Image(react_graph.get_graph(xray=True).draw_mermaid_png()))"
   ]
  },
  {
   "cell_type": "markdown",
   "id": "a66d28b3-3d52-42e8-917a-03888a5cb732",
   "metadata": {
    "tags": []
   },
   "source": [
    "### Complete Graph Execution"
   ]
  },
  {
   "cell_type": "code",
   "execution_count": 29,
   "id": "5ee7bb87-08c9-4892-b3c7-d3938644078c",
   "metadata": {
    "tags": []
   },
   "outputs": [
    {
     "name": "stdout",
     "output_type": "stream",
     "text": [
      "================================\u001b[1m Human Message \u001b[0m=================================\n",
      "\n",
      "Question: What is the average salary in Engineering?\n",
      "==================================\u001b[1m Ai Message \u001b[0m==================================\n",
      "\n",
      "Classification: structured\n",
      "================================\u001b[1m Human Message \u001b[0m=================================\n",
      "\n",
      "What is the average salary in Engineering?\n",
      "==================================\u001b[1m Ai Message \u001b[0m==================================\n",
      "\n",
      "SELECT AVG(salary) FROM employees WHERE department = 'Engineering';\n",
      "==================================\u001b[1m Ai Message \u001b[0m==================================\n",
      "\n",
      "Query Results:\n",
      "[\n",
      "  {\n",
      "    \"AVG(salary)\": 77500.0\n",
      "  }\n",
      "]\n",
      "==================================\u001b[1m Ai Message \u001b[0m==================================\n",
      "\n",
      "Answer:\n",
      "The average salary in Engineering is $77,500.\n",
      "\n",
      "💡 Final Answer:\n",
      " The average salary in Engineering is $77,500.\n"
     ]
    }
   ],
   "source": [
    "graph = create_rag_pipeline()\n",
    "state = graph.invoke({\"question\": \"What is the average salary in Engineering?\"})\n",
    "\n",
    "# Print full trace\n",
    "for m in state[\"messages\"]:\n",
    "    m.pretty_print()\n",
    "\n",
    "# Print final answer\n",
    "print(\"\\n💡 Final Answer:\\n\", state[\"final_answer\"])"
   ]
  },
  {
   "cell_type": "markdown",
   "id": "bde11b67-e4ab-4fbd-972f-8eae1eb395c3",
   "metadata": {},
   "source": [
    "----------------------"
   ]
  },
  {
   "cell_type": "code",
   "execution_count": 32,
   "id": "56a985eb-7ea7-45dd-bb92-c8a6fae24406",
   "metadata": {
    "tags": []
   },
   "outputs": [
    {
     "name": "stdout",
     "output_type": "stream",
     "text": [
      "================================\u001b[1m Human Message \u001b[0m=================================\n",
      "\n",
      "Question: What is a short definition of machine learning Engineering?\n",
      "==================================\u001b[1m Ai Message \u001b[0m==================================\n",
      "\n",
      "Classification: semantic\n",
      "==================================\u001b[1m Ai Message \u001b[0m==================================\n",
      "\n",
      "Answer:\n",
      "Machine Learning Engineering is a field of computer science that involves the development and application of algorithms and models that allow computers to learn from and make decisions or predictions based on data. It combines software engineering with data science to create systems and infrastructure capable of learning from data, improving performance, and delivering accurate results.\n",
      "\n",
      "💡 Final Answer:\n",
      " Machine Learning Engineering is a field of computer science that involves the development and application of algorithms and models that allow computers to learn from and make decisions or predictions based on data. It combines software engineering with data science to create systems and infrastructure capable of learning from data, improving performance, and delivering accurate results.\n"
     ]
    }
   ],
   "source": [
    "graph = create_rag_pipeline()\n",
    "state = graph.invoke({\"question\": \"What is a short definition of machine learning Engineering?\"})\n",
    "\n",
    "# Print full trace\n",
    "for m in state[\"messages\"]:\n",
    "    m.pretty_print()\n",
    "\n",
    "# Print final answer\n",
    "print(\"\\n💡 Final Answer:\\n\", state[\"final_answer\"])"
   ]
  },
  {
   "cell_type": "code",
   "execution_count": 35,
   "id": "0ba0b609",
   "metadata": {},
   "outputs": [
    {
     "name": "stdout",
     "output_type": "stream",
     "text": [
      "================================\u001b[1m Human Message \u001b[0m=================================\n",
      "\n",
      "Question: What is the average salary in the Engineering department, by the way, can you give me the definition of engineering?\n",
      "==================================\u001b[1m Ai Message \u001b[0m==================================\n",
      "\n",
      "Classification: hybrid\n",
      "================================\u001b[1m Human Message \u001b[0m=================================\n",
      "\n",
      "What is the average salary in the Engineering department, by the way, can you give me the definition of engineering?\n",
      "==================================\u001b[1m Ai Message \u001b[0m==================================\n",
      "\n",
      "SELECT AVG(salary) FROM employees WHERE department = 'Engineering';\n",
      "==================================\u001b[1m Ai Message \u001b[0m==================================\n",
      "\n",
      "Query Results:\n",
      "[\n",
      "  {\n",
      "    \"AVG(salary)\": 77500.0\n",
      "  }\n",
      "]\n",
      "==================================\u001b[1m Ai Message \u001b[0m==================================\n",
      "\n",
      "Answer:\n",
      "The average salary in the Engineering department is $77,500. \n",
      "\n",
      "As for the definition of engineering, it is a discipline and profession that applies scientific and mathematical principles to design and build structures, machines, systems, or other items. This includes a wide range of fields such as civil, mechanical, electrical, and computer engineering, among others. Engineers use their knowledge to solve technical problems, innovate, and improve existing technologies.\n",
      "\n",
      "💡 Final Answer:\n",
      " The average salary in the Engineering department is $77,500. \n",
      "\n",
      "As for the definition of engineering, it is a discipline and profession that applies scientific and mathematical principles to design and build structures, machines, systems, or other items. This includes a wide range of fields such as civil, mechanical, electrical, and computer engineering, among others. Engineers use their knowledge to solve technical problems, innovate, and improve existing technologies.\n"
     ]
    }
   ],
   "source": [
    "graph = create_rag_pipeline()\n",
    "state = graph.invoke({\"question\": \"What is the average salary in the Engineering department, by the way, can you give me the definition of engineering?\"})\n",
    "\n",
    "# Print full trace\n",
    "for m in state[\"messages\"]:\n",
    "    m.pretty_print()\n",
    "\n",
    "# Print final answer\n",
    "print(\"\\n💡 Final Answer:\\n\", state[\"final_answer\"])"
   ]
  },
  {
   "cell_type": "code",
   "execution_count": 36,
   "id": "2d026d9a",
   "metadata": {},
   "outputs": [
    {
     "name": "stdout",
     "output_type": "stream",
     "text": [
      "================================\u001b[1m Human Message \u001b[0m=================================\n",
      "\n",
      "Question: What is the average salary in the Marketing department, and how many employees are in this department?\n",
      "==================================\u001b[1m Ai Message \u001b[0m==================================\n",
      "\n",
      "Classification: structured\n",
      "================================\u001b[1m Human Message \u001b[0m=================================\n",
      "\n",
      "What is the average salary in the Marketing department, and how many employees are in this department?\n",
      "==================================\u001b[1m Ai Message \u001b[0m==================================\n",
      "\n",
      "SELECT AVG(salary) AS average_salary, COUNT(*) AS number_of_employees \n",
      "FROM employees \n",
      "WHERE department = 'Marketing';\n",
      "==================================\u001b[1m Ai Message \u001b[0m==================================\n",
      "\n",
      "Query Results:\n",
      "[\n",
      "  {\n",
      "    \"average_salary\": 65000.0,\n",
      "    \"number_of_employees\": 1\n",
      "  }\n",
      "]\n",
      "==================================\u001b[1m Ai Message \u001b[0m==================================\n",
      "\n",
      "Answer:\n",
      "The average salary in the Marketing department is $65,000. There is only one employee in this department.\n",
      "\n",
      "💡 Final Answer:\n",
      " The average salary in the Marketing department is $65,000. There is only one employee in this department.\n"
     ]
    }
   ],
   "source": [
    "graph = create_rag_pipeline()\n",
    "state = graph.invoke({\"question\": \"What is the average salary in the Marketing department, and how many employees are in this department?\"})\n",
    "\n",
    "# Print full trace\n",
    "for m in state[\"messages\"]:\n",
    "    m.pretty_print()\n",
    "\n",
    "# Print final answer\n",
    "print(\"\\n💡 Final Answer:\\n\", state[\"final_answer\"])"
   ]
  },
  {
   "cell_type": "markdown",
   "id": "963c9e99-826d-4394-adda-3452d11d6e57",
   "metadata": {},
   "source": [
    "--------------"
   ]
  }
 ],
 "metadata": {
  "kernelspec": {
   "display_name": "Python 3",
   "language": "python",
   "name": "python3"
  },
  "language_info": {
   "codemirror_mode": {
    "name": "ipython",
    "version": 3
   },
   "file_extension": ".py",
   "mimetype": "text/x-python",
   "name": "python",
   "nbconvert_exporter": "python",
   "pygments_lexer": "ipython3",
   "version": "3.11.1"
  }
 },
 "nbformat": 4,
 "nbformat_minor": 5
}
